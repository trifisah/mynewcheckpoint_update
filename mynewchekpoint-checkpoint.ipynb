{
 "cells": [
  {
   "cell_type": "code",
   "execution_count": 1,
   "metadata": {},
   "outputs": [
    {
     "name": "stdout",
     "output_type": "stream",
     "text": [
      "input your First name :sahby\n",
      "input your Last name :trify\n",
      "hello trify sahby\n"
     ]
    }
   ],
   "source": [
    "fname = input('input your First name :')\n",
    "lname = input('input your Last name :')\n",
    "print('hello '+lname+' '+fname)\n"
   ]
  },
  {
   "cell_type": "code",
   "execution_count": 3,
   "metadata": {},
   "outputs": [
    {
     "name": "stdout",
     "output_type": "stream",
     "text": [
      "Input an integer : 7\n",
      "861\n"
     ]
    }
   ],
   "source": [
    "a = int(input(\"Input an integer : \"))\n",
    "n1 = int( \"%s\" % a )\n",
    "n2 = int( \"%s%s\" % (a,a) )\n",
    "n3 = int( \"%s%s%s\" % (a,a,a) )\n",
    "print (n1+n2+n3)"
   ]
  },
  {
   "cell_type": "code",
   "execution_count": null,
   "metadata": {},
   "outputs": [],
   "source": []
  },
  {
   "cell_type": "code",
   "execution_count": null,
   "metadata": {},
   "outputs": [],
   "source": []
  },
  {
   "cell_type": "code",
   "execution_count": 6,
   "metadata": {},
   "outputs": [
    {
     "name": "stdout",
     "output_type": "stream",
     "text": [
      "Enter a number: 5\n",
      "This is an odd number.\n"
     ]
    }
   ],
   "source": [
    "num = int(input(\"Enter a number: \"))\n",
    "mod = num % 2\n",
    "if mod > 0:\n",
    "    print(\"This is an odd number.\")\n",
    "else:\n",
    "    print(\"This is an even number.\")"
   ]
  },
  {
   "cell_type": "code",
   "execution_count": 7,
   "metadata": {},
   "outputs": [
    {
     "name": "stdout",
     "output_type": "stream",
     "text": [
      "2002,2009,2016,2023,2037,2044,2051,2058,2072,2079,2086,2093,2107,2114,2121,2128,2142,2149,2156,2163,2177,2184,2191,2198,2212,2219,2226,2233,2247,2254,2261,2268,2282,2289,2296,2303,2317,2324,2331,2338,2352,2359,2366,2373,2387,2394,2401,2408,2422,2429,2436,2443,2457,2464,2471,2478,2492,2499,2506,2513,2527,2534,2541,2548,2562,2569,2576,2583,2597,2604,2611,2618,2632,2639,2646,2653,2667,2674,2681,2688,2702,2709,2716,2723,2737,2744,2751,2758,2772,2779,2786,2793,2807,2814,2821,2828,2842,2849,2856,2863,2877,2884,2891,2898,2912,2919,2926,2933,2947,2954,2961,2968,2982,2989,2996,3003,3017,3024,3031,3038,3052,3059,3066,3073,3087,3094,3101,3108,3122,3129,3136,3143,3157,3164,3171,3178,3192,3199\n"
     ]
    }
   ],
   "source": [
    "nl=[]\n",
    "for x in range(2000, 3201):\n",
    "    if (x%7==0) and (x%5!=0):\n",
    "        nl.append(str(x))\n",
    "print (','.join(nl))"
   ]
  },
  {
   "cell_type": "code",
   "execution_count": 8,
   "metadata": {},
   "outputs": [
    {
     "name": "stdout",
     "output_type": "stream",
     "text": [
      "Input a number to compute the factiorial : 8\n",
      "40320\n"
     ]
    }
   ],
   "source": [
    "def factorial(n):\n",
    "    if n == 0:\n",
    "        return 1\n",
    "    else:\n",
    "        return n * factorial(n-1)\n",
    "n=int(input(\"Input a number to compute the factiorial : \"))\n",
    "print(factorial(n))"
   ]
  },
  {
   "cell_type": "code",
   "execution_count": 9,
   "metadata": {},
   "outputs": [],
   "source": [
    "#print your price value "
   ]
  },
  {
   "cell_type": "code",
   "execution_count": 17,
   "metadata": {},
   "outputs": [
    {
     "name": "stdout",
     "output_type": "stream",
     "text": [
      "enter your price value :700\n",
      "discount =  350.0\n",
      "net price=  350.0\n"
     ]
    }
   ],
   "source": [
    "price_value =int(input('enter your price value :'))\n",
    "\n",
    "if (price_value>0):\n",
    "    if price_value>=500:\n",
    "        discount=price_value*0.5\n",
    "    elif 200<=price_value<500:\n",
    "        discount=price_value*0.3\n",
    "    else:\n",
    "        discount=price_value*0.1\n",
    "    print('discount = ',discount)\n",
    "    print('net price= ',price_value-discount)\n",
    "else:\n",
    "    print('invalide price')"
   ]
  },
  {
   "cell_type": "code",
   "execution_count": 28,
   "metadata": {},
   "outputs": [
    {
     "name": "stdout",
     "output_type": "stream",
     "text": [
      "Enter a year: 2004\n",
      "2004 is a leap year\n"
     ]
    }
   ],
   "source": [
    "year = int(input(\"Enter a year: \"))\n",
    "\n",
    "if (year % 4) == 0:\n",
    "    if (year % 100) != 0:\n",
    "        print(\"{0} is a leap year\".format(year))\n",
    "    else:\n",
    "        print(\"{0} is not a leap year\".format(year))\n",
    "else:\n",
    "    print(\"{0} is not a leap year\".format(year))"
   ]
  },
  {
   "cell_type": "code",
   "execution_count": 87,
   "metadata": {},
   "outputs": [
    {
     "name": "stdout",
     "output_type": "stream",
     "text": [
      "write your string :hello team\n",
      "my string is:  hlota\n"
     ]
    }
   ],
   "source": [
    "my_str=input('write your string :')\n",
    "n=int(len(my_str))\n",
    "i=0\n",
    "my_str1=\"\"\n",
    "while (i<n):\n",
    "    mod=i%2\n",
    "    if (mod==0):\n",
    "        my_str1+=my_str[i]\n",
    "    else:\n",
    "        my_str1=my_str1\n",
    "    i+=1\n",
    "print('my string is: ',my_str1)"
   ]
  },
  {
   "cell_type": "code",
   "execution_count": 1,
   "metadata": {},
   "outputs": [
    {
     "name": "stdout",
     "output_type": "stream",
     "text": [
      "enter your number = 5\n",
      "entrer le nombre de redendance voulu = 3\n",
      "la somme de redendance du nombre est =  615\n"
     ]
    }
   ],
   "source": [
    "# Question  2  new version\n",
    "\n",
    "\n",
    "number=int(input(\"enter your number = \"))\n",
    "redendance= int(input(\"entrer le nombre de redendance voulu = \"))\n",
    "a=[]\n",
    "con_2_str=str(number)\n",
    "sum=0\n",
    "i=1\n",
    "\n",
    "for i in range (1,redendance+1):\n",
    "    a.append(con_2_str*i)\n",
    "    sum=sum+int(a[i-1])\n",
    "    \n",
    "print('la somme de redendance du nombre est = ',sum)\n"
   ]
  },
  {
   "cell_type": "code",
   "execution_count": 2,
   "metadata": {},
   "outputs": [
    {
     "name": "stdout",
     "output_type": "stream",
     "text": [
      "write your string :hello team\n",
      "my string is:  hlota\n"
     ]
    }
   ],
   "source": [
    "#question 6 new version \n",
    "\n",
    "\n",
    "my_str=input('write your string :')\n",
    "n=int(len(my_str))\n",
    "my_str1=\"\"\n",
    "\n",
    "for i in range (len(my_str)):\n",
    "    if (i%2==0):\n",
    "        my_str1+=my_str[i]\n",
    "    else:\n",
    "        my_str1=my_str1\n",
    "    \n",
    "print('my string is: ',my_str1)\n"
   ]
  },
  {
   "cell_type": "code",
   "execution_count": null,
   "metadata": {},
   "outputs": [],
   "source": []
  },
  {
   "cell_type": "code",
   "execution_count": null,
   "metadata": {},
   "outputs": [],
   "source": []
  },
  {
   "cell_type": "code",
   "execution_count": null,
   "metadata": {},
   "outputs": [],
   "source": []
  },
  {
   "cell_type": "code",
   "execution_count": null,
   "metadata": {},
   "outputs": [],
   "source": []
  },
  {
   "cell_type": "code",
   "execution_count": null,
   "metadata": {},
   "outputs": [],
   "source": []
  },
  {
   "cell_type": "code",
   "execution_count": null,
   "metadata": {},
   "outputs": [],
   "source": []
  }
 ],
 "metadata": {
  "kernelspec": {
   "display_name": "Python 3",
   "language": "python",
   "name": "python3"
  },
  "language_info": {
   "codemirror_mode": {
    "name": "ipython",
    "version": 3
   },
   "file_extension": ".py",
   "mimetype": "text/x-python",
   "name": "python",
   "nbconvert_exporter": "python",
   "pygments_lexer": "ipython3",
   "version": "3.8.5"
  }
 },
 "nbformat": 4,
 "nbformat_minor": 4
}
